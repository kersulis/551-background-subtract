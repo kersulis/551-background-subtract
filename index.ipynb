{
 "cells": [
  {
   "cell_type": "markdown",
   "metadata": {},
   "source": [
    "## EECS 453/551\n",
    "# Video background subtraction using SVD\n",
    "\n",
    "In this exercise we will discover how the SVD can magically estimate the background in a video even when there is a lot of noise and missing data.\n",
    "___"
   ]
  },
  {
   "cell_type": "markdown",
   "metadata": {},
   "source": [
    "## Before we begin\n",
    "\n",
    "2. Run the code cell below by clicking it and either\n",
    "\n",
    "    * choosing Cell -> Run in the toolbar\n",
    "    * Pressing Ctrl+Enter\n",
    "\n",
    "This will load the Python tools we need for today."
   ]
  },
  {
   "cell_type": "code",
   "execution_count": null,
   "metadata": {
    "collapsed": false,
    "scrolled": true
   },
   "outputs": [],
   "source": [
    "# %cd background_demo\n",
    "%pylab inline\n",
    "from scipy.io import loadmat\n",
    "from scipy.sparse.linalg import svds\n",
    "from ipywidgets import interact"
   ]
  },
  {
   "cell_type": "markdown",
   "metadata": {},
   "source": [
    "You may wish to take a few minutes to familiarize yourself with the notebook interface. Choose Help -> User Interface Tour for a brief introduction.\n",
    "\n",
    "In Julia, you can type `?` followed by any object (variable, function, module) to get its description.\n",
    "\n",
    "Now run the next cell. You should see an image with a slider above it. Drag the slider to look through some video footage."
   ]
  },
  {
   "cell_type": "code",
   "execution_count": null,
   "metadata": {
    "collapsed": false
   },
   "outputs": [],
   "source": [
    "# load lobby and xylophone video footage:\n",
    "lobby = loadmat(\"lobby.mat\")[\"MovMat\"]\n",
    "\n",
    "xylophone = loadmat(\"xylophone.mat\")[\"MovMat\"]\n",
    "xylophone = xylophone.astype(float)\n",
    "xylophone *= 1/xylophone.max()\n",
    "\n",
    "# display footage:\n",
    "footage = lobby\n",
    "\n",
    "m,n,numFrames = footage.shape\n",
    "\n",
    "fig = figure(figsize = [10,10])\n",
    "ax = axes(xticks=[],yticks=[])\n",
    "set_cmap('gray')\n",
    "\n",
    "def on_change(val):\n",
    "    imshow(footage[:,:,val])\n",
    "    xticks([])\n",
    "    yticks([])\n",
    "    figsize(10,10)\n",
    "    show()\n",
    "\n",
    "interact(on_change, val=(0,numFrames-1))"
   ]
  },
  {
   "cell_type": "markdown",
   "metadata": {},
   "source": [
    "## Objective\n",
    "\n",
    "The objective of this exercise is to take as an input the video you have just seen and return as an output the background (i.e. without the people moving for the lobby video)."
   ]
  },
  {
   "cell_type": "markdown",
   "metadata": {},
   "source": [
    "### Task 1\n",
    "\n",
    "Find in the function below the portion where the variable `backgroundVec` is computed. Note how the SVD is used to compute it. Examine how the `residualVec` variable is computed and note that\n",
    "\n",
    "    footageVec = backgroundVec + residualVec\n",
    "\n",
    "Hence if we successfully are able to estimate the background, `residualVec` should contain:\n",
    "\n",
    "1. People moving around\n",
    "2. Nothing (empty)\n",
    "\n",
    "**Do you expect 1. or 2. to be true? Why?**\n",
    "\n",
    "Now **run the cell** to add `process()` to your workspace."
   ]
  },
  {
   "cell_type": "code",
   "execution_count": null,
   "metadata": {
    "collapsed": true
   },
   "outputs": [],
   "source": [
    "def process(footage):\n",
    "    \"\"\"\n",
    "    process(footage) -> background,residual\n",
    "    Use SVD to separate input footage into background (static objects)\n",
    "    and residual (fleeting objects).\n",
    "    \"\"\"\n",
    "\n",
    "    (m,n,numFrames) = footage.shape\n",
    "    \n",
    "    # Each movie frame is a 128x160 array.\n",
    "    # Reshape each frame into a single column vector\n",
    "    # to ease manipulation:\n",
    "    footageVec = footage.reshape((m*n,numFrames))\n",
    "    \n",
    "    ###################################\n",
    "    # Process using SVD\n",
    "    r = 1 # rank of \"background\" is 1\n",
    "\n",
    "    # U,S,V will contain first r components of SVD:\n",
    "    \n",
    "    [U,S,V] = svds(footageVec,r) # V already transposed!\n",
    "    \n",
    "    # Take first 'r' components as background\n",
    "    backgroundVec = U.dot(diag(S)).dot(V) \n",
    "\n",
    "    # calculate residual\n",
    "    residualVec = footageVec - backgroundVec\n",
    "    ###################################\n",
    "    \n",
    "    # reshape background and residual into footage dimensions\n",
    "    background = backgroundVec.reshape((m,n,numFrames))\n",
    "    residual = residualVec.reshape((m,n,numFrames))\n",
    "    return background,residual"
   ]
  },
  {
   "cell_type": "markdown",
   "metadata": {},
   "source": [
    "### Task 2\n",
    "\n",
    "Run the following code cell. You should see a slider above a plot with two subplots. On the left is the original footage; on the right is the background as estimated by SVD.\n",
    "\n",
    "**Is it working?**"
   ]
  },
  {
   "cell_type": "code",
   "execution_count": null,
   "metadata": {
    "collapsed": false
   },
   "outputs": [],
   "source": [
    "footage = lobby\n",
    "\n",
    "# perform SVD-based background subtraction:\n",
    "background,residual = process(footage)\n",
    "\n",
    "### display results\n",
    "m,n,numFrames = footage.shape\n",
    "ws = ones((m,5)) # whitespace\n",
    "\n",
    "fig = figure(figsize = [20,10])\n",
    "ax = axes(xticks=[],yticks=[])\n",
    "set_cmap('gray')\n",
    "\n",
    "def on_change(val):\n",
    "    imshow(hstack((footage[:,:,val],ws,background[:,:,val])))\n",
    "    xticks([])\n",
    "    yticks([])\n",
    "    figsize(20,10)\n",
    "    show()\n",
    "\n",
    "interact(on_change, val=(0,numFrames-1))"
   ]
  },
  {
   "cell_type": "markdown",
   "metadata": {},
   "source": [
    "### Task 3: adding noise\n",
    "\n",
    "The movie you just processed using SVD was relatively noise-free. Let us start adding noise and removing entries and see how well SVD does.\n",
    "\n",
    "Study the function `addnoise()` in the following cell. **What is the code doing mathematically?** Now **run the cell** to add the function to your workspace.\n",
    "\n",
    "Enter a value of 0.1 for $ \\sigma $ in the next cell down, then run it.\n",
    "\n",
    "**Do you see the movie get noisier? Is the SVD able to extract the background?**\n",
    "\n",
    "* Now repeat for $ \\sigma = 0.5 $, $ \\sigma = 1 $ and $ \\sigma = 2 $. **How does the SVD do?**"
   ]
  },
  {
   "cell_type": "code",
   "execution_count": null,
   "metadata": {
    "collapsed": false
   },
   "outputs": [],
   "source": [
    "def addnoise(footage,sigma):\n",
    "    \"\"\"\n",
    "    Add noise to footage.\n",
    "\n",
    "    σ is noise standard deviation.\n",
    "\n",
    "    (type symbol with \"\\sigma<TAB>\")\n",
    "    \"\"\"\n",
    "    rand\n",
    "    # Interpret this mathematically!\n",
    "    footage = footage + sigma*rand(*footage.shape)\n",
    "    return footage"
   ]
  },
  {
   "cell_type": "code",
   "execution_count": null,
   "metadata": {
    "collapsed": false,
    "scrolled": false
   },
   "outputs": [],
   "source": [
    "footage = lobby\n",
    "\n",
    "############################\n",
    "sigma =  # Enter your value here\n",
    "\n",
    "# Add noise:\n",
    "footage = addnoise(footage,sigma)\n",
    "############################\n",
    "\n",
    "# perform background subtraction on noisy footage:\n",
    "background,residual = process(footage)\n",
    "\n",
    "### display results\n",
    "m,n,numFrames = footage.shape\n",
    "ws = ones((m,5)) # whitespace\n",
    "\n",
    "fig = figure(figsize = [20,10])\n",
    "ax = axes(xticks=[],yticks=[])\n",
    "set_cmap('gray')\n",
    "\n",
    "def on_change(val):\n",
    "    imshow(hstack((footage[:,:,val],ws,background[:,:,val])))\n",
    "    xticks([])\n",
    "    yticks([])\n",
    "    figsize(20,10)\n",
    "    show()\n",
    "\n",
    "interact(on_change, val=(0,numFrames-1))"
   ]
  },
  {
   "cell_type": "markdown",
   "metadata": {},
   "source": [
    "### Task 4: removing entries\n",
    "\n",
    "Now we will corrupt the data by randomly removing a portion of the entries.\n",
    "\n",
    "Study `corrupt()` in the cell below. **What is it doing to the input footage?** Now **run the cell** to add `corrupt()` to your workspace.\n",
    "\n",
    "Enter a value of 0.9 for `p` in the next cell down, then run it.\n",
    "\n",
    "**Does the movie have missing entries? Is the SVD successfully separating the background?**\n",
    "\n",
    "Now repeat for `p = 0.75`, `p = 0.5`, `p = 0.25`, `p = 0.1`. **Do you see the movie have more blank entries? Is the SVD still working?**"
   ]
  },
  {
   "cell_type": "code",
   "execution_count": null,
   "metadata": {
    "collapsed": true
   },
   "outputs": [],
   "source": [
    "def corrupt(footage,p):\n",
    "    \"\"\"\n",
    "    Corrupt footage by removing entries.\n",
    "\n",
    "    Each entry is removed with probability `p`.\n",
    "    \"\"\"\n",
    "    if p < 0.0 or p > 1.0:\n",
    "        warnings.warn(\"p must be in [0,1]\")\n",
    "    \n",
    "    # Interpret this mathematically!\n",
    "    # Type help(rand) if you aren't sure what rand() does.\n",
    "    mask = rand(*footage.shape) < p\n",
    "\n",
    "    # Mask some entries\n",
    "    footage = footage*mask\n",
    "    return footage"
   ]
  },
  {
   "cell_type": "code",
   "execution_count": null,
   "metadata": {
    "collapsed": false,
    "scrolled": true
   },
   "outputs": [],
   "source": [
    "footage = lobby\n",
    "\n",
    "# Add noise:\n",
    "sigma = 0.1\n",
    "footage = addnoise(footage,sigma)\n",
    "\n",
    "############################\n",
    "p =  # Enter your value here\n",
    "\n",
    "# Delete entries\n",
    "footage = corrupt(footage,p)\n",
    "############################\n",
    "\n",
    "# Process footage using SVD\n",
    "background,res = process(footage)\n",
    "\n",
    "### display results\n",
    "m,n,numFrames = footage.shape\n",
    "ws = ones((m,5)) # whitespace\n",
    "\n",
    "fig = figure(figsize = [20,10])\n",
    "ax = axes(xticks=[],yticks=[])\n",
    "set_cmap('gray')\n",
    "\n",
    "def on_change(val):\n",
    "    imshow(hstack((footage[:,:,val],ws,background[:,:,val])))\n",
    "    xticks([])\n",
    "    yticks([])\n",
    "    figsize(20,10)\n",
    "    show()\n",
    "\n",
    "interact(on_change, val=(0,numFrames-1))"
   ]
  },
  {
   "cell_type": "markdown",
   "metadata": {},
   "source": [
    "The corrupted footage is on the left; the background (first component of SVD) is on the right."
   ]
  },
  {
   "cell_type": "markdown",
   "metadata": {},
   "source": [
    "## Task 5\n",
    "\n",
    "What if we considered the first two SVD components to be the background rather than just one? What happens as we change $\\sigma$ and p?\n",
    "\n",
    "The following method returns both rank-1 and rank-2 backgrounds and allows us to quickly change $\\sigma$ and p. **Run the cell** to add this method to your workspace."
   ]
  },
  {
   "cell_type": "code",
   "execution_count": null,
   "metadata": {
    "collapsed": true
   },
   "outputs": [],
   "source": [
    "def process2(footage,sigma,p):\n",
    "    (m,n,numFrames) = footage.shape\n",
    "    footage = addnoise(footage,sigma) # Add noise\n",
    "    footage = corrupt(footage,p) # Delete entries\n",
    "     # Reshape each frame into a column\n",
    "    footageVec = footage.reshape(m*n,numFrames)\n",
    "    \n",
    "    [U,S,V] = svds(footageVec,2) # take SVD\n",
    "    \n",
    "    # take first component as background\n",
    "    backgroundVec = S[-1]*outer(U[:,-1],V[-1,:])\n",
    "    \n",
    "    # take first 2 components as background2\n",
    "    backgroundVec2 = U.dot(diag(S)).dot(V)\n",
    "    \n",
    "    # calculate residual\n",
    "    residualVec = footageVec - backgroundVec\n",
    "    \n",
    "    # calculate residual2\n",
    "    residualVec2 = footageVec - backgroundVec2  \n",
    "    \n",
    "    # reshape footage dimensions\n",
    "    background  = backgroundVec.reshape(footage.shape)\n",
    "    background2 = backgroundVec2.reshape(footage.shape)\n",
    "    \n",
    "    return footage,background,background2"
   ]
  },
  {
   "cell_type": "markdown",
   "metadata": {},
   "source": [
    "Now we can illustrate the difference between rank-1 and rank-2 background separation. **Run the following cell** to see footage on the left, rank-1 background in the middle, and rank-2 background on the right."
   ]
  },
  {
   "cell_type": "code",
   "execution_count": null,
   "metadata": {
    "collapsed": false
   },
   "outputs": [],
   "source": [
    "###########################\n",
    "# Enter your values here\n",
    "sigma = \n",
    "p = \n",
    "footage = lobby # xylophone\n",
    "###########################\n",
    "\n",
    "# perform background subtraction\n",
    "fg,bg,bg2 = process2(footage,sigma,p)\n",
    "\n",
    "### display results\n",
    "m,n,numFrames = footage.shape\n",
    "ws = ones((m,5)) # whitespace\n",
    "\n",
    "fig = figure(figsize = [20,10])\n",
    "ax = axes(xticks=[],yticks=[])\n",
    "set_cmap('gray')\n",
    "\n",
    "def on_change(val):\n",
    "    imshow(hstack((fg[:,:,val],ws,\n",
    "                   bg[:,:,val],ws,bg2[:,:,val])))\n",
    "    xticks([])\n",
    "    yticks([])\n",
    "    figsize(20,10)\n",
    "    show()\n",
    "\n",
    "interact(on_change, val=(0,numFrames-1))"
   ]
  },
  {
   "cell_type": "markdown",
   "metadata": {},
   "source": [
    "### Task 6\n",
    "\n",
    "In the cell above, change \n",
    "```python\n",
    "footage = lobby\n",
    "```\n",
    "to \n",
    "```python\n",
    "footage = xylophone\n",
    "```\n",
    "and run the cell again. **Does SVD-based processing still work?**"
   ]
  }
 ],
 "metadata": {
  "kernelspec": {
   "display_name": "Python 3",
   "language": "python",
   "name": "python3"
  },
  "language_info": {
   "codemirror_mode": {
    "name": "ipython",
    "version": 3
   },
   "file_extension": ".py",
   "mimetype": "text/x-python",
   "name": "python",
   "nbconvert_exporter": "python",
   "pygments_lexer": "ipython3",
   "version": "3.4.3"
  }
 },
 "nbformat": 4,
 "nbformat_minor": 0
}
